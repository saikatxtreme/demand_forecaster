{
 "cells": [
  {
   "cell_type": "markdown",
   "metadata": {},
   "source": [
    "# Demand Forecaster Demo\n",
    "\n",
    "This notebook demonstrates how to use the `demand_forecaster` package for demand forecasting.\n",
    "\n",
    "We will cover:\n",
    "1. Loading sales & event data\n",
    "2. Running daily, weekly, and monthly forecasts\n",
    "3. Incorporating promotions and discounts\n",
    "4. Handling events/holidays\n",
    "5. Attribute-based forecasting (Region, Store, Item)\n",
    "6. Visualizing forecasts\n",
    "7. Running forecasts from CLI\n"
   ]
  },
  {
   "cell_type": "code",
   "execution_count": null,
   "metadata": {},
   "outputs": [],
   "source": [
    "import pandas as pd\n",
    "import matplotlib.pyplot as plt\n",
    "from demand_forecaster.forecaster import AttributeAwareForecaster\n"
   ]
  },
  {
   "cell_type": "markdown",
   "metadata": {},
   "source": [
    "## 1. Load Data\n",
    "We'll use dummy sales and event datasets provided in `examples/`.\n"
   ]
  },
  {
   "cell_type": "code",
   "execution_count": null,
   "metadata": {},
   "outputs": [],
   "source": [
    "sales = pd.read_csv(\"examples/sales_data.csv\", parse_dates=[\"date\"])\n",
    "events = pd.read_csv(\"examples/events.csv\", parse_dates=[\"start_date\", \"end_date\"])\n",
    "\n",
    "display(sales.head())\n",
    "display(events.head())"
   ]
  },
  {
   "cell_type": "markdown",
   "metadata": {},
   "source": [
    "## 2. Initialize Forecaster\n",
    "We’ll configure horizon frequency (daily/weekly/monthly), lookback windows, and attributes."
   ]
  },
  {
   "cell_type": "code",
   "execution_count": null,
   "metadata": {},
   "outputs": [],
   "source": [
    "forecaster = AttributeAwareForecaster(\n",
    "    method=\"wma\",                  # weighted moving average (or \"median\")\n",
    "    attributes=[\"region\", \"store\", \"item\"],\n",
    "    horizon_freq=\"D\",              # D = daily, W = weekly, M = monthly\n",
    "    lookback_config={\"D\": 8, \"W\": 8, \"M\": 5},\n",
    "    use_trends=True,\n",
    "    use_promotions=True,\n",
    "    use_events=True\n",
    ")\n",
    "\n",
    "forecaster.fit(sales_df=sales, events_df=events)"
   ]
  },
  {
   "cell_type": "markdown",
   "metadata": {},
   "source": [
    "## 3. Forecasting - Daily Horizon"
   ]
  },
  {
   "cell_type": "code",
   "execution_count": null,
   "metadata": {},
   "outputs": [],
   "source": [
    "forecast_daily = forecaster.forecast(horizon_periods=14)  # 14 days ahead\n",
    "forecast_daily.head()"
   ]
  },
  {
   "cell_type": "markdown",
   "metadata": {},
   "source": [
    "## 4. Forecasting - Weekly Horizon"
   ]
  },
  {
   "cell_type": "code",
   "execution_count": null,
   "metadata": {},
   "outputs": [],
   "source": [
    "forecaster.horizon_freq = \"W\"\n",
    "forecast_weekly = forecaster.forecast(horizon_periods=8)\n",
    "forecast_weekly.head()"
   ]
  },
  {
   "cell_type": "markdown",
   "metadata": {},
   "source": [
    "## 5. Forecasting - Monthly Horizon"
   ]
  },
  {
   "cell_type": "code",
   "execution_count": null,
   "metadata": {},
   "outputs": [],
   "source": [
    "forecaster.horizon_freq = \"M\"\n",
    "forecast_monthly = forecaster.forecast(horizon_periods=6)\n",
    "forecast_monthly.head()"
   ]
  },
  {
   "cell_type": "markdown",
   "metadata": {},
   "source": [
    "## 6. Visualization\n",
    "Let's visualize actual vs forecasted sales."
   ]
  },
  {
   "cell_type": "code",
   "execution_count": null,
   "metadata": {},
   "outputs": [],
   "source": [
    "plt.figure(figsize=(12,6))\n",
    "plt.plot(sales.groupby(\"date\")[\"sales\"].sum(), label=\"Actual\")\n",
    "plt.plot(forecast_daily.set_index(\"date\")[\"forecast\"], label=\"Forecast (Daily)\")\n",
    "plt.legend()\n",
    "plt.title(\"Actual vs Forecasted Sales\")\n",
    "plt.show()"
   ]
  },
  {
   "cell_type": "markdown",
   "metadata": {},
   "source": [
    "## 7. Using CLI\n",
    "You can also run forecasts directly from the terminal:\n",
    "\n",
    "```bash\n",
    "demand_forecaster run \\\n",
    "  --sales examples/sales_data.csv \\\n",
    "  --events examples/events.csv \\\n",
    "  --freq D \\\n",
    "  --horizon 14 \\\n",
    "  --attributes region store item\n",
    "```\n",
    "\n",
    "This will generate forecasts and save them to `forecast_output.csv` by default."
   ]
  }
 ],
 "metadata": {
  "kernelspec": {
   "display_name": "Python 3",
   "language": "python",
   "name": "python3"
  },
  "language_info": {
   "name": "python",
   "version": "3.9"
  }
 },
 "nbformat": 4,
 "nbformat_minor": 5
}
