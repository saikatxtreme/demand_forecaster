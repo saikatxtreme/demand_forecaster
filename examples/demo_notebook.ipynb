

## Advanced Recipes

### Custom Weighted Moving Average (Exponential Decay)
```python
from demand_forecaster.forecaster import AttributeAwareForecaster
import numpy as np

def exp_weights(n):
    return np.exp(-np.arange(n))[::-1]

model = AttributeAwareForecaster(method="wma", attributes=["region","store","item"], horizon_freq="D", custom_weights=exp_weights)
```

### Trimmed Median Example
```python
def trimmed_median(values):
    sorted_vals = np.sort(values)
    trim = int(0.1 * len(values))
    return np.median(sorted_vals[trim:-trim]) if len(sorted_vals) > 2*trim else np.median(sorted_vals)

model = AttributeAwareForecaster(method="median", attributes=["region","store","item"], horizon_freq="W", custom_agg=trimmed_median)
```

### ML Uplift Factor Example
```python
import pandas as pd
from xgboost import XGBRegressor

sales = pd.read_csv("examples/dummy_data.csv")
future_plan = pd.read_csv("examples/dummy_future_promos.csv")

X = sales[["discount_pct", "holiday_flag", "event_intensity"]]
y = sales["uplift_factor"]
ml_model = XGBRegressor().fit(X, y)

future_X = future_plan[["discount_pct", "holiday_flag", "event_intensity"]]
future_plan["uplift_factor"] = ml_model.predict(future_X)

forecast_ml = model.forecast("2025-08-21", 14, future_plan=future_plan)
```

### Weather Factor Example
```python
import pandas as pd

weather = pd.read_csv("examples/dummy_weather.csv")

def weather_uplift(row):
    if row["rain_mm"] > 20: return 1.15
    if row["temp_c"] > 35: return 0.90
    return 1.0

forecast_weather = model.forecast("2025-08-21", 14, future_factors={"weather": weather_uplift})
```

### Hierarchical Override
```python
model = AttributeAwareForecaster(method={"default":"wma", ("East","S1"):"median"}, attributes=["region","store","item"], horizon_freq="D")
```

### Reconciliation Example
```python
fcst_store = model.forecast("2025-08-21", 14, filter_attrs={"store":"S1"})
fcst_region = model.forecast("2025-08-21", 14, filter_attrs={"region":"East"})

scaling_factor = fcst_region["forecast"].sum() / fcst_store["forecast"].sum()
fcst_store["reconciled"] = fcst_store["forecast"] * scaling_factor
```
